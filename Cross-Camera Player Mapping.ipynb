{
 "cells": [
  {
   "cell_type": "code",
   "execution_count": 1,
   "id": "2190d5c4",
   "metadata": {
    "execution": {
     "iopub.execute_input": "2025-07-12T16:39:50.308845Z",
     "iopub.status.busy": "2025-07-12T16:39:50.308224Z",
     "iopub.status.idle": "2025-07-12T16:41:55.432517Z",
     "shell.execute_reply": "2025-07-12T16:41:55.431709Z"
    },
    "papermill": {
     "duration": 125.12976,
     "end_time": "2025-07-12T16:41:55.433984",
     "exception": false,
     "start_time": "2025-07-12T16:39:50.304224",
     "status": "completed"
    },
    "tags": []
   },
   "outputs": [
    {
     "name": "stdout",
     "output_type": "stream",
     "text": [
      "\u001b[2K   \u001b[90m━━━━━━━━━━━━━━━━━━━━━━━━━━━━━━━━━━━━━━━━\u001b[0m \u001b[32m1.0/1.0 MB\u001b[0m \u001b[31m3.4 MB/s\u001b[0m eta \u001b[36m0:00:00\u001b[0m\r\n",
      "\u001b[2K   \u001b[90m━━━━━━━━━━━━━━━━━━━━━━━━━━━━━━━━━━━━━━━━\u001b[0m \u001b[32m363.4/363.4 MB\u001b[0m \u001b[31m4.2 MB/s\u001b[0m eta \u001b[36m0:00:00\u001b[0m\r\n",
      "\u001b[2K   \u001b[90m━━━━━━━━━━━━━━━━━━━━━━━━━━━━━━━━━━━━━━━━\u001b[0m \u001b[32m13.8/13.8 MB\u001b[0m \u001b[31m26.6 MB/s\u001b[0m eta \u001b[36m0:00:00\u001b[0m\r\n",
      "\u001b[2K   \u001b[90m━━━━━━━━━━━━━━━━━━━━━━━━━━━━━━━━━━━━━━━━\u001b[0m \u001b[32m24.6/24.6 MB\u001b[0m \u001b[31m22.7 MB/s\u001b[0m eta \u001b[36m0:00:00\u001b[0m\r\n",
      "\u001b[2K   \u001b[90m━━━━━━━━━━━━━━━━━━━━━━━━━━━━━━━━━━━━━━━━\u001b[0m \u001b[32m883.7/883.7 kB\u001b[0m \u001b[31m40.8 MB/s\u001b[0m eta \u001b[36m0:00:00\u001b[0m\r\n",
      "\u001b[2K   \u001b[90m━━━━━━━━━━━━━━━━━━━━━━━━━━━━━━━━━━━━━━━━\u001b[0m \u001b[32m664.8/664.8 MB\u001b[0m \u001b[31m2.2 MB/s\u001b[0m eta \u001b[36m0:00:00\u001b[0m\r\n",
      "\u001b[2K   \u001b[90m━━━━━━━━━━━━━━━━━━━━━━━━━━━━━━━━━━━━━━━━\u001b[0m \u001b[32m211.5/211.5 MB\u001b[0m \u001b[31m6.7 MB/s\u001b[0m eta \u001b[36m0:00:00\u001b[0m\r\n",
      "\u001b[2K   \u001b[90m━━━━━━━━━━━━━━━━━━━━━━━━━━━━━━━━━━━━━━━━\u001b[0m \u001b[32m56.3/56.3 MB\u001b[0m \u001b[31m16.6 MB/s\u001b[0m eta \u001b[36m0:00:00\u001b[0m\r\n",
      "\u001b[2K   \u001b[90m━━━━━━━━━━━━━━━━━━━━━━━━━━━━━━━━━━━━━━━━\u001b[0m \u001b[32m127.9/127.9 MB\u001b[0m \u001b[31m9.7 MB/s\u001b[0m eta \u001b[36m0:00:00\u001b[0m\r\n",
      "\u001b[2K   \u001b[90m━━━━━━━━━━━━━━━━━━━━━━━━━━━━━━━━━━━━━━━━\u001b[0m \u001b[32m207.5/207.5 MB\u001b[0m \u001b[31m6.7 MB/s\u001b[0m eta \u001b[36m0:00:00\u001b[0m\r\n",
      "\u001b[2K   \u001b[90m━━━━━━━━━━━━━━━━━━━━━━━━━━━━━━━━━━━━━━━━\u001b[0m \u001b[32m21.1/21.1 MB\u001b[0m \u001b[31m23.8 MB/s\u001b[0m eta \u001b[36m0:00:00\u001b[0m\r\n",
      "\u001b[?25h"
     ]
    }
   ],
   "source": [
    "!pip install -q ultralytics"
   ]
  },
  {
   "cell_type": "markdown",
   "id": "c5299cb0",
   "metadata": {
    "papermill": {
     "duration": 0.053639,
     "end_time": "2025-07-12T16:41:55.544671",
     "exception": false,
     "start_time": "2025-07-12T16:41:55.491032",
     "status": "completed"
    },
    "tags": []
   },
   "source": [
    "# Import Library"
   ]
  },
  {
   "cell_type": "code",
   "execution_count": 2,
   "id": "deaf93b5",
   "metadata": {
    "_cell_guid": "b1076dfc-b9ad-4769-8c92-a6c4dae69d19",
    "_uuid": "8f2839f25d086af736a60e9eeb907d3b93b6e0e5",
    "execution": {
     "iopub.execute_input": "2025-07-12T16:41:55.703452Z",
     "iopub.status.busy": "2025-07-12T16:41:55.702789Z",
     "iopub.status.idle": "2025-07-12T16:42:07.076813Z",
     "shell.execute_reply": "2025-07-12T16:42:07.075948Z"
    },
    "papermill": {
     "duration": 11.429691,
     "end_time": "2025-07-12T16:42:07.078047",
     "exception": false,
     "start_time": "2025-07-12T16:41:55.648356",
     "status": "completed"
    },
    "tags": []
   },
   "outputs": [
    {
     "name": "stdout",
     "output_type": "stream",
     "text": [
      "Creating new Ultralytics Settings v0.0.6 file ✅ \n",
      "View Ultralytics Settings with 'yolo settings' or at '/root/.config/Ultralytics/settings.json'\n",
      "Update Settings with 'yolo settings key=value', i.e. 'yolo settings runs_dir=path/to/dir'. For help see https://docs.ultralytics.com/quickstart/#ultralytics-settings.\n",
      "/kaggle/input/best/pytorch/default/1/best.pt\n",
      "/kaggle/input/dataset-video/15sec_input_720p.mp4\n",
      "/kaggle/input/dataset-video/tacticam.mp4\n",
      "/kaggle/input/dataset-video/broadcast.mp4\n"
     ]
    }
   ],
   "source": [
    "import numpy as np\n",
    "import pandas as pd \n",
    "from ultralytics import YOLO\n",
    "import cv2\n",
    "import json\n",
    "import os\n",
    "import torch\n",
    "import torchvision.models as models\n",
    "import torchvision.transforms as transforms\n",
    "from PIL import Image\n",
    "from sklearn.metrics.pairwise import cosine_similarity\n",
    "for dirname, _, filenames in os.walk('/kaggle/input'):\n",
    "    for filename in filenames:\n",
    "        print(os.path.join(dirname, filename))\n",
    "import warnings\n",
    "warnings.filterwarnings('ignore')        "
   ]
  },
  {
   "cell_type": "markdown",
   "id": "588293a9",
   "metadata": {
    "papermill": {
     "duration": 0.053412,
     "end_time": "2025-07-12T16:42:07.186274",
     "exception": false,
     "start_time": "2025-07-12T16:42:07.132862",
     "status": "completed"
    },
    "tags": []
   },
   "source": [
    "# Paths"
   ]
  },
  {
   "cell_type": "code",
   "execution_count": 3,
   "id": "b49df814",
   "metadata": {
    "execution": {
     "iopub.execute_input": "2025-07-12T16:42:07.293831Z",
     "iopub.status.busy": "2025-07-12T16:42:07.293401Z",
     "iopub.status.idle": "2025-07-12T16:42:07.297975Z",
     "shell.execute_reply": "2025-07-12T16:42:07.297483Z"
    },
    "papermill": {
     "duration": 0.059559,
     "end_time": "2025-07-12T16:42:07.299073",
     "exception": false,
     "start_time": "2025-07-12T16:42:07.239514",
     "status": "completed"
    },
    "tags": []
   },
   "outputs": [],
   "source": [
    "# Paths\n",
    "broadcast_path = '/kaggle/input/dataset-video/broadcast.mp4'\n",
    "tacticam_path = '/kaggle/input/dataset-video/tacticam.mp4'\n",
    "model_path = '/kaggle/input/dataset-video/best.pt'\n",
    "\n",
    "# Output directories\n",
    "os.makedirs(\"/kaggle/working/outputs/detections\", exist_ok=True)\n",
    "os.makedirs(\"/kaggle/working/outputs/features\", exist_ok=True)\n",
    "os.makedirs(\"/kaggle/working/outputs/matches\", exist_ok=True)\n"
   ]
  },
  {
   "cell_type": "markdown",
   "id": "5c6988d1",
   "metadata": {
    "papermill": {
     "duration": 0.052526,
     "end_time": "2025-07-12T16:42:07.406487",
     "exception": false,
     "start_time": "2025-07-12T16:42:07.353961",
     "status": "completed"
    },
    "tags": []
   },
   "source": [
    "# Load YOLOv11"
   ]
  },
  {
   "cell_type": "code",
   "execution_count": 4,
   "id": "62306bba",
   "metadata": {
    "execution": {
     "iopub.execute_input": "2025-07-12T16:42:07.514893Z",
     "iopub.status.busy": "2025-07-12T16:42:07.514188Z",
     "iopub.status.idle": "2025-07-12T16:42:10.862857Z",
     "shell.execute_reply": "2025-07-12T16:42:10.862068Z"
    },
    "papermill": {
     "duration": 3.404995,
     "end_time": "2025-07-12T16:42:10.864604",
     "exception": false,
     "start_time": "2025-07-12T16:42:07.459609",
     "status": "completed"
    },
    "tags": []
   },
   "outputs": [],
   "source": [
    "# Load model\n",
    "model = YOLO('/kaggle/input/best/pytorch/default/1/best.pt')"
   ]
  },
  {
   "cell_type": "markdown",
   "id": "d73e0a3d",
   "metadata": {
    "papermill": {
     "duration": 0.054099,
     "end_time": "2025-07-12T16:42:10.975815",
     "exception": false,
     "start_time": "2025-07-12T16:42:10.921716",
     "status": "completed"
    },
    "tags": []
   },
   "source": [
    "# Detection Function"
   ]
  },
  {
   "cell_type": "code",
   "execution_count": 5,
   "id": "e54fb610",
   "metadata": {
    "execution": {
     "iopub.execute_input": "2025-07-12T16:42:11.086627Z",
     "iopub.status.busy": "2025-07-12T16:42:11.086006Z",
     "iopub.status.idle": "2025-07-12T16:42:11.091750Z",
     "shell.execute_reply": "2025-07-12T16:42:11.091128Z"
    },
    "papermill": {
     "duration": 0.062733,
     "end_time": "2025-07-12T16:42:11.092797",
     "exception": false,
     "start_time": "2025-07-12T16:42:11.030064",
     "status": "completed"
    },
    "tags": []
   },
   "outputs": [],
   "source": [
    "def detect_players(video_path, output_json, frame_skip=5):\n",
    "    cap = cv2.VideoCapture(video_path)\n",
    "    frame_id = 0\n",
    "    detections = []\n",
    "\n",
    "    while cap.isOpened():\n",
    "        ret, frame = cap.read()\n",
    "        if not ret:\n",
    "            break\n",
    "\n",
    "        if frame_id % frame_skip == 0:\n",
    "            results = model.predict(frame, conf=0.3, verbose=False)[0]\n",
    "            for box in results.boxes:\n",
    "                cls = int(box.cls[0])\n",
    "                if cls == 0:  # class 0 = player\n",
    "                    x1, y1, x2, y2 = map(int, box.xyxy[0])\n",
    "                    conf = float(box.conf[0])\n",
    "                    detections.append({\n",
    "                        \"frame_id\": frame_id,\n",
    "                        \"bbox\": [x1, y1, x2, y2],\n",
    "                        \"confidence\": conf\n",
    "                    })\n",
    "\n",
    "        frame_id += 1\n",
    "\n",
    "    with open(output_json, 'w') as f:\n",
    "        json.dump(detections, f)\n",
    "\n",
    "    cap.release()"
   ]
  },
  {
   "cell_type": "markdown",
   "id": "605e13e7",
   "metadata": {
    "papermill": {
     "duration": 0.054132,
     "end_time": "2025-07-12T16:42:11.202031",
     "exception": false,
     "start_time": "2025-07-12T16:42:11.147899",
     "status": "completed"
    },
    "tags": []
   },
   "source": [
    "# Feature Extraction"
   ]
  },
  {
   "cell_type": "code",
   "execution_count": 6,
   "id": "563d469c",
   "metadata": {
    "execution": {
     "iopub.execute_input": "2025-07-12T16:42:11.313378Z",
     "iopub.status.busy": "2025-07-12T16:42:11.312777Z",
     "iopub.status.idle": "2025-07-12T16:42:12.738098Z",
     "shell.execute_reply": "2025-07-12T16:42:12.737311Z"
    },
    "papermill": {
     "duration": 1.482391,
     "end_time": "2025-07-12T16:42:12.739607",
     "exception": false,
     "start_time": "2025-07-12T16:42:11.257216",
     "status": "completed"
    },
    "tags": []
   },
   "outputs": [
    {
     "name": "stderr",
     "output_type": "stream",
     "text": [
      "Downloading: \"https://download.pytorch.org/models/resnet50-0676ba61.pth\" to /root/.cache/torch/hub/checkpoints/resnet50-0676ba61.pth\n",
      "100%|██████████| 97.8M/97.8M [00:00<00:00, 228MB/s]\n"
     ]
    }
   ],
   "source": [
    "device = 'cuda' if torch.cuda.is_available() else 'cpu'\n",
    "\n",
    "resnet = models.resnet50(pretrained=True)\n",
    "resnet = torch.nn.Sequential(*list(resnet.children())[:-1])  # remove final layer\n",
    "resnet = resnet.to(device).eval()\n",
    "\n",
    "transform = transforms.Compose([\n",
    "    transforms.Resize((128, 128)),\n",
    "    transforms.ToTensor()\n",
    "])\n",
    "\n",
    "def extract_features(video_path, detection_json):\n",
    "    cap = cv2.VideoCapture(video_path)\n",
    "    with open(detection_json) as f:\n",
    "        detections = json.load(f)\n",
    "\n",
    "    features = []\n",
    "    for det in detections:\n",
    "        cap.set(cv2.CAP_PROP_POS_FRAMES, det['frame_id'])\n",
    "        ret, frame = cap.read()\n",
    "        if not ret:\n",
    "            continue\n",
    "        x1, y1, x2, y2 = det['bbox']\n",
    "        crop = frame[y1:y2, x1:x2]\n",
    "        if crop.size == 0:\n",
    "            continue\n",
    "        img = Image.fromarray(cv2.cvtColor(crop, cv2.COLOR_BGR2RGB))\n",
    "        img_tensor = transform(img).unsqueeze(0).to(device)\n",
    "\n",
    "        with torch.no_grad():\n",
    "            feat = resnet(img_tensor).squeeze().cpu().numpy()\n",
    "        features.append(feat)\n",
    "\n",
    "    cap.release()\n",
    "    return np.array(features)"
   ]
  },
  {
   "cell_type": "markdown",
   "id": "c091109c",
   "metadata": {
    "papermill": {
     "duration": 0.054786,
     "end_time": "2025-07-12T16:42:12.849650",
     "exception": false,
     "start_time": "2025-07-12T16:42:12.794864",
     "status": "completed"
    },
    "tags": []
   },
   "source": [
    "# Match Players"
   ]
  },
  {
   "cell_type": "code",
   "execution_count": 7,
   "id": "e916866d",
   "metadata": {
    "execution": {
     "iopub.execute_input": "2025-07-12T16:42:12.965873Z",
     "iopub.status.busy": "2025-07-12T16:42:12.965198Z",
     "iopub.status.idle": "2025-07-12T16:42:12.969574Z",
     "shell.execute_reply": "2025-07-12T16:42:12.969010Z"
    },
    "papermill": {
     "duration": 0.067514,
     "end_time": "2025-07-12T16:42:12.970658",
     "exception": false,
     "start_time": "2025-07-12T16:42:12.903144",
     "status": "completed"
    },
    "tags": []
   },
   "outputs": [],
   "source": [
    "def match_players(broadcast_feats, tacticam_feats):\n",
    "    matched_ids = []\n",
    "    for i, tf in enumerate(tacticam_feats):\n",
    "        sims = cosine_similarity([tf], broadcast_feats)[0]\n",
    "        best_match = int(np.argmax(sims))\n",
    "        matched_ids.append({\n",
    "            \"tacticam_id\": i,\n",
    "            \"matched_broadcast_id\": best_match,\n",
    "            \"similarity\": float(sims[best_match])\n",
    "        })\n",
    "    return matched_ids"
   ]
  },
  {
   "cell_type": "markdown",
   "id": "9909bb51",
   "metadata": {
    "papermill": {
     "duration": 0.07385,
     "end_time": "2025-07-12T16:42:13.099157",
     "exception": false,
     "start_time": "2025-07-12T16:42:13.025307",
     "status": "completed"
    },
    "tags": []
   },
   "source": [
    "# Run Full Pipeline"
   ]
  },
  {
   "cell_type": "code",
   "execution_count": 8,
   "id": "a3bb1dd1",
   "metadata": {
    "execution": {
     "iopub.execute_input": "2025-07-12T16:42:13.216883Z",
     "iopub.status.busy": "2025-07-12T16:42:13.216600Z",
     "iopub.status.idle": "2025-07-12T16:42:18.962329Z",
     "shell.execute_reply": "2025-07-12T16:42:18.961444Z"
    },
    "papermill": {
     "duration": 5.802376,
     "end_time": "2025-07-12T16:42:18.963524",
     "exception": false,
     "start_time": "2025-07-12T16:42:13.161148",
     "status": "completed"
    },
    "tags": []
   },
   "outputs": [
    {
     "name": "stdout",
     "output_type": "stream",
     "text": [
      "Tacticam ID 0 → Broadcast ID 3 (Sim: 0.89)\n",
      "Tacticam ID 1 → Broadcast ID 1 (Sim: 0.88)\n",
      "Tacticam ID 2 → Broadcast ID 0 (Sim: 0.90)\n"
     ]
    }
   ],
   "source": [
    "# Detection\n",
    "detect_players(broadcast_path, \"/kaggle/working/outputs/detections/broadcast.json\", frame_skip=5)\n",
    "detect_players(tacticam_path, \"/kaggle/working/outputs/detections/tacticam.json\", frame_skip=5)\n",
    "\n",
    "# Feature Extraction\n",
    "broadcast_feats = extract_features(broadcast_path, \"/kaggle/working/outputs/detections/broadcast.json\")\n",
    "tacticam_feats = extract_features(tacticam_path, \"/kaggle/working/outputs/detections/tacticam.json\")\n",
    "\n",
    "# Matching\n",
    "results = match_players(broadcast_feats, tacticam_feats)\n",
    "\n",
    "# Save Results\n",
    "with open(\"/kaggle/working/outputs/matches/match1.json\", \"w\") as f:\n",
    "    json.dump(results, f, indent=2)\n",
    "\n",
    "# Print Sample\n",
    "for r in results[:5]:\n",
    "    print(f\"Tacticam ID {r['tacticam_id']} → Broadcast ID {r['matched_broadcast_id']} (Sim: {r['similarity']:.2f})\")"
   ]
  }
 ],
 "metadata": {
  "kaggle": {
   "accelerator": "gpu",
   "dataSources": [
    {
     "datasetId": 7853955,
     "sourceId": 12450537,
     "sourceType": "datasetVersion"
    },
    {
     "isSourceIdPinned": true,
     "modelId": 398776,
     "modelInstanceId": 378633,
     "sourceId": 469331,
     "sourceType": "modelInstanceVersion"
    }
   ],
   "dockerImageVersionId": 31090,
   "isGpuEnabled": true,
   "isInternetEnabled": true,
   "language": "python",
   "sourceType": "notebook"
  },
  "kernelspec": {
   "display_name": "Python 3",
   "language": "python",
   "name": "python3"
  },
  "language_info": {
   "codemirror_mode": {
    "name": "ipython",
    "version": 3
   },
   "file_extension": ".py",
   "mimetype": "text/x-python",
   "name": "python",
   "nbconvert_exporter": "python",
   "pygments_lexer": "ipython3",
   "version": "3.11.13"
  },
  "papermill": {
   "default_parameters": {},
   "duration": 155.319243,
   "end_time": "2025-07-12T16:42:21.509810",
   "environment_variables": {},
   "exception": null,
   "input_path": "__notebook__.ipynb",
   "output_path": "__notebook__.ipynb",
   "parameters": {},
   "start_time": "2025-07-12T16:39:46.190567",
   "version": "2.6.0"
  }
 },
 "nbformat": 4,
 "nbformat_minor": 5
}
